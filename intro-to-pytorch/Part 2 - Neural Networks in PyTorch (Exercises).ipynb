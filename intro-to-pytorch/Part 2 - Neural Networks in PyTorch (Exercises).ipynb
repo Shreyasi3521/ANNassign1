{
 "cells": [
  {
   "cell_type": "markdown",
   "metadata": {},
   "source": [
    "# Neural networks with PyTorch\n",
    "\n",
    "Deep learning networks tend to be massive with dozens or hundreds of layers, that's where the term \"deep\" comes from. You can build one of these deep networks using only weight matrices as we did in the previous notebook, but in general it's very cumbersome and difficult to implement. PyTorch has a nice module `nn` that provides a nice way to efficiently build large neural networks."
   ]
  },
  {
   "cell_type": "code",
   "execution_count": 1,
   "metadata": {},
   "outputs": [],
   "source": [
    "# Import necessary packages\n",
    "\n",
    "%matplotlib inline\n",
    "%config InlineBackend.figure_format = 'retina'\n",
    "\n",
    "import numpy as np\n",
    "import torch\n",
    "\n",
    "import helper\n",
    "\n",
    "import matplotlib.pyplot as plt"
   ]
  },
  {
   "cell_type": "markdown",
   "metadata": {},
   "source": [
    "\n",
    "Now we're going to build a larger network that can solve a (formerly) difficult problem, identifying text in an image. Here we'll use the MNIST dataset which consists of greyscale handwritten digits. Each image is 28x28 pixels, you can see a sample below\n",
    "\n",
    "<img src='assets/mnist.png'>\n",
    "\n",
    "Our goal is to build a neural network that can take one of these images and predict the digit in the image.\n",
    "\n",
    "First up, we need to get our dataset. This is provided through the `torchvision` package. The code below will download the MNIST dataset, then create training and test datasets for us. Don't worry too much about the details here, you'll learn more about this later."
   ]
  },
  {
   "cell_type": "code",
   "execution_count": 4,
   "metadata": {},
   "outputs": [],
   "source": [
    "### Run this cell\n",
    "\n",
    "from torchvision import datasets, transforms\n",
    "\n",
    "# Define a transform to normalize the data\n",
    "transform = transforms.Compose([transforms.ToTensor(),\n",
    "                              transforms.Normalize((0.5,), (0.5,)),\n",
    "                              ])\n",
    "\n",
    "# Download and load the training data\n",
    "trainset = datasets.MNIST('~/.pytorch/MNIST_data/', download=True, train=True, transform=transform)\n",
    "trainloader = torch.utils.data.DataLoader(trainset, batch_size=64, shuffle=True)"
   ]
  },
  {
   "cell_type": "markdown",
   "metadata": {},
   "source": [
    "We have the training data loaded into `trainloader` and we make that an iterator with `iter(trainloader)`. Later, we'll use this to loop through the dataset for training, like\n",
    "\n",
    "```python\n",
    "for image, label in trainloader:\n",
    "    ## do things with images and labels\n",
    "```\n",
    "\n",
    "You'll notice I created the `trainloader` with a batch size of 64, and `shuffle=True`. The batch size is the number of images we get in one iteration from the data loader and pass through our network, often called a *batch*. And `shuffle=True` tells it to shuffle the dataset every time we start going through the data loader again. But here I'm just grabbing the first batch so we can check out the data. We can see below that `images` is just a tensor with size `(64, 1, 28, 28)`. So, 64 images per batch, 1 color channel, and 28x28 images."
   ]
  },
  {
   "cell_type": "code",
   "execution_count": 5,
   "metadata": {},
   "outputs": [
    {
     "name": "stdout",
     "output_type": "stream",
     "text": [
      "<class 'torch.Tensor'>\n",
      "torch.Size([64, 1, 28, 28])\n",
      "torch.Size([64])\n"
     ]
    }
   ],
   "source": [
    "dataiter = iter(trainloader)\n",
    "images, labels = dataiter.next()\n",
    "print(type(images))\n",
    "print(images.shape)\n",
    "print(labels.shape)"
   ]
  },
  {
   "cell_type": "markdown",
   "metadata": {},
   "source": [
    "This is what one of the images looks like. "
   ]
  },
  {
   "cell_type": "code",
   "execution_count": 6,
   "metadata": {},
   "outputs": [
    {
     "data": {
      "image/png": "[encoded data removed]",
      "text/plain": [
       "<Figure size 432x288 with 1 Axes>"
      ]
     },
     "metadata": {
      "image/png": {
       "height": 248,
       "width": 251
      },
      "needs_background": "light"
     },
     "output_type": "display_data"
    }
   ],
   "source": [
    "plt.imshow(images[1].numpy().squeeze(), cmap='Greys_r');"
   ]
  },
  {
   "cell_type": "markdown",
   "metadata": {},
   "source": [
    "First, let's try to build a simple network for this dataset using weight matrices and matrix multiplications. Then, we'll see how to do it using PyTorch's `nn` module which provides a much more convenient and powerful method for defining network architectures.\n",
    "\n",
    "The networks you've seen so far are called *fully-connected* or *dense* networks. Each unit in one layer is connected to each unit in the next layer. In fully-connected networks, the input to each layer must be a one-dimensional vector (which can be stacked into a 2D tensor as a batch of multiple examples). However, our images are 28x28 2D tensors, so we need to convert them into 1D vectors. Thinking about sizes, we need to convert the batch of images with shape `(64, 1, 28, 28)` to a have a shape of `(64, 784)`, 784 is 28 times 28. This is typically called *flattening*, we flattened the 2D images into 1D vectors.\n",
    "\n",
    "Previously you built a network with one output unit. Here we need 10 output units, one for each digit. We want our network to predict the digit shown in an image, so what we'll do is calculate probabilities that the image is of any one digit or class. This ends up being a discrete probability distribution over the classes (digits) that tells us the most likely class for the image. That means we need 10 output units for the 10 classes (digits). We'll see how to convert the network output into a probability distribution next.\n",
    "\n",
    "> **Exercise:** Flatten the batch of images `images`. Then build a multi-layer network with 784 input units, 256 hidden units, and 10 output units using random tensors for the weights and biases. For now, use a sigmoid activation for the hidden layer. Leave the output layer without an activation, we'll add one that gives us a probability distribution next."
   ]
  },
  {
   "cell_type": "code",
   "execution_count": 10,
   "metadata": {},
   "outputs": [
    {
     "data": {
      "text/plain": [
       "tensor([[0.4929, 0.2104, 0.3716, 0.5821, 0.6573, 0.7661, 0.9523, 0.3244, 0.9867,\n",
       "         0.4354],\n",
       "        [0.2676, 0.2379, 0.1096, 0.4937, 0.5894, 0.5834, 0.4063, 0.3312, 0.5563,\n",
       "         0.3753],\n",
       "        [0.1308, 0.1925, 0.7168, 0.3981, 0.0675, 0.2330, 0.4868, 0.1037, 0.7659,\n",
       "         0.7325],\n",
       "        [0.2153, 0.9790, 0.9713, 0.3002, 0.4706, 0.1997, 0.8036, 0.3107, 0.2946,\n",
       "         0.1907],\n",
       "        [0.6822, 0.3873, 0.5522, 0.3784, 0.3708, 0.1638, 0.1028, 0.4865, 0.0060,\n",
       "         0.3722],\n",
       "        [0.1194, 0.3923, 0.7054, 0.1594, 0.6727, 0.7886, 0.9053, 0.7165, 0.1451,\n",
       "         0.9945],\n",
       "        [0.8789, 0.0138, 0.6419, 0.5450, 0.5800, 0.8548, 0.9574, 0.0657, 0.3300,\n",
       "         0.1083],\n",
       "        [0.0992, 0.3284, 0.8841, 0.0014, 0.7618, 0.6234, 0.1151, 0.9986, 0.8399,\n",
       "         0.1166],\n",
       "        [0.9013, 0.1632, 0.2092, 0.5918, 0.8390, 0.7070, 0.0903, 0.0970, 0.2900,\n",
       "         0.6632],\n",
       "        [0.6200, 0.4221, 0.2826, 0.1089, 0.0881, 0.0066, 0.6603, 0.4652, 0.8713,\n",
       "         0.8204],\n",
       "        [0.5569, 0.8457, 0.0921, 0.5301, 0.1819, 0.1788, 0.3623, 0.7604, 0.9160,\n",
       "         0.5211],\n",
       "        [0.5498, 0.9577, 0.7797, 0.2554, 0.0101, 0.5489, 0.2471, 0.1373, 0.3309,\n",
       "         0.9344],\n",
       "        [0.9436, 0.8500, 0.5475, 0.5070, 0.1220, 0.4140, 0.4869, 0.8104, 0.9827,\n",
       "         0.0429],\n",
       "        [0.1366, 0.1699, 0.4121, 0.2637, 0.0106, 0.7438, 0.6903, 0.5106, 0.2046,\n",
       "         0.6730],\n",
       "        [0.5511, 0.1607, 0.5816, 0.6971, 0.2164, 0.8243, 0.3714, 0.1445, 0.2988,\n",
       "         0.0792],\n",
       "        [0.2560, 0.9480, 0.7110, 0.0810, 0.2143, 0.0957, 0.6252, 0.3129, 0.9722,\n",
       "         0.2026],\n",
       "        [0.1185, 0.2510, 0.2679, 0.5513, 0.7309, 0.2704, 0.1708, 0.1441, 0.4192,\n",
       "         0.9564],\n",
       "        [0.9155, 0.1907, 0.3340, 0.3285, 0.6039, 0.7446, 0.3555, 0.9703, 0.2802,\n",
       "         0.1256],\n",
       "        [0.7729, 0.4343, 0.5030, 0.9550, 0.1964, 0.4203, 0.8725, 0.0641, 0.5276,\n",
       "         0.9659],\n",
       "        [0.3094, 0.5157, 0.9668, 0.3901, 0.8776, 0.4092, 0.0119, 0.1997, 0.1910,\n",
       "         0.9248],\n",
       "        [0.1249, 0.3517, 0.1452, 0.5936, 0.4585, 0.1283, 0.3722, 0.5033, 0.6995,\n",
       "         0.5537],\n",
       "        [0.4175, 0.4987, 0.3498, 0.3515, 0.9528, 0.1108, 0.5986, 0.4217, 0.9548,\n",
       "         0.5533],\n",
       "        [0.8674, 0.8261, 0.2898, 0.4095, 0.3650, 0.1062, 0.5471, 0.2181, 0.5448,\n",
       "         0.9334],\n",
       "        [0.9885, 0.3475, 0.0200, 0.3522, 0.1372, 0.8825, 0.4129, 0.0714, 0.0644,\n",
       "         0.4546],\n",
       "        [0.6023, 0.2522, 0.4936, 0.2203, 0.2821, 0.1014, 0.3821, 0.2792, 0.1459,\n",
       "         0.8475],\n",
       "        [0.4288, 0.6830, 0.7757, 0.1293, 0.3175, 0.2765, 0.0262, 0.8435, 0.8958,\n",
       "         0.5893],\n",
       "        [0.8544, 0.5480, 0.2362, 0.0445, 0.4240, 0.2318, 0.3501, 0.9852, 0.0234,\n",
       "         0.4404],\n",
       "        [0.9480, 0.9497, 0.4807, 0.1411, 0.9537, 0.6684, 0.8457, 0.9001, 0.8227,\n",
       "         0.3234],\n",
       "        [0.8342, 0.7150, 0.7606, 0.2929, 0.7775, 0.6873, 0.0952, 0.1204, 0.3105,\n",
       "         0.8254],\n",
       "        [0.9520, 0.6363, 0.0030, 0.8258, 0.8738, 0.0620, 0.7335, 0.7457, 0.6597,\n",
       "         0.5090],\n",
       "        [0.7332, 0.1227, 0.2830, 0.2061, 0.8621, 0.2586, 0.2956, 0.7909, 0.7575,\n",
       "         0.2676],\n",
       "        [0.2820, 0.7907, 0.5745, 0.6473, 0.1574, 0.9221, 0.8466, 0.5169, 0.3595,\n",
       "         0.2867],\n",
       "        [0.1512, 0.2163, 0.4557, 0.1471, 0.6211, 0.1575, 0.2305, 0.6216, 0.2264,\n",
       "         0.9223],\n",
       "        [0.3887, 0.4229, 0.4321, 0.3743, 0.4071, 0.4783, 0.7133, 0.3113, 0.4717,\n",
       "         0.8590],\n",
       "        [0.1743, 0.2232, 0.3664, 0.8258, 0.9676, 0.0066, 0.6099, 0.0460, 0.6493,\n",
       "         0.8679],\n",
       "        [0.5027, 0.6695, 0.7360, 0.2338, 0.5745, 0.8107, 0.8832, 0.6385, 0.9254,\n",
       "         0.8650],\n",
       "        [0.1870, 0.3900, 0.9468, 0.3102, 0.6001, 0.9051, 0.5247, 0.8995, 0.8208,\n",
       "         0.3865],\n",
       "        [0.9099, 0.8309, 0.5617, 0.4050, 0.0640, 0.8263, 0.9852, 0.2252, 0.5963,\n",
       "         0.2987],\n",
       "        [0.5632, 0.6075, 0.8554, 0.3898, 0.7245, 0.9699, 0.0023, 0.4725, 0.8062,\n",
       "         0.0854],\n",
       "        [0.0386, 0.5196, 0.7762, 0.8586, 0.3940, 0.1484, 0.3491, 0.4674, 0.4755,\n",
       "         0.3862],\n",
       "        [0.3272, 0.2306, 0.7720, 0.9474, 0.3720, 0.7541, 0.8700, 0.1698, 0.8203,\n",
       "         0.9559],\n",
       "        [0.9733, 0.6210, 0.2925, 0.1436, 0.9010, 0.7557, 0.4835, 0.9217, 0.7648,\n",
       "         0.0576],\n",
       "        [0.8103, 0.4572, 0.5951, 0.7125, 0.2828, 0.1985, 0.0388, 0.5477, 0.6956,\n",
       "         0.8294],\n",
       "        [0.0924, 0.9716, 0.2601, 0.9694, 0.5894, 0.0463, 0.6625, 0.6323, 0.0530,\n",
       "         0.0120],\n",
       "        [0.0965, 0.5629, 0.5728, 0.6868, 0.3633, 0.6834, 0.8650, 0.8064, 0.3050,\n",
       "         0.2705],\n",
       "        [0.5944, 0.6071, 0.6484, 0.4410, 0.5418, 0.3889, 0.5300, 0.3396, 0.9821,\n",
       "         0.1652],\n",
       "        [0.0559, 0.5714, 0.1780, 0.7862, 0.6106, 0.4928, 0.0476, 0.1096, 0.8561,\n",
       "         0.5553],\n",
       "        [0.6869, 0.6333, 0.3426, 0.2633, 0.2372, 0.2387, 0.1395, 0.3935, 0.8456,\n",
       "         0.1597],\n",
       "        [0.3550, 0.1864, 0.7482, 0.5366, 0.3805, 0.9095, 0.2302, 0.4445, 0.6336,\n",
       "         0.1405],\n",
       "        [0.5815, 0.6837, 0.9172, 0.2121, 0.4554, 0.8272, 0.1568, 0.0366, 0.4895,\n",
       "         0.8888],\n",
       "        [0.1287, 0.8440, 0.6030, 0.9092, 0.1450, 0.9135, 0.3974, 0.1818, 0.3582,\n",
       "         0.9603],\n",
       "        [0.2862, 0.0196, 0.8246, 0.6574, 0.2712, 0.9622, 0.9012, 0.2598, 0.3835,\n",
       "         0.9033],\n",
       "        [0.8729, 0.9447, 0.8102, 0.4256, 0.1461, 0.4598, 0.9257, 0.4284, 0.5480,\n",
       "         0.4410],\n",
       "        [0.6140, 0.1064, 0.9470, 0.9733, 0.4030, 0.3952, 0.1916, 0.2949, 0.0246,\n",
       "         0.8113],\n",
       "        [0.4394, 0.2988, 0.8979, 0.3598, 0.4202, 0.1477, 0.4170, 0.3117, 0.1235,\n",
       "         0.1162],\n",
       "        [0.9061, 0.6207, 0.0528, 0.4521, 0.6214, 0.0859, 0.8464, 0.0268, 0.3618,\n",
       "         0.6942],\n",
       "        [0.8229, 0.4080, 0.4949, 0.7208, 0.8828, 0.9867, 0.3317, 0.4002, 0.9392,\n",
       "         0.4012],\n",
       "        [0.3342, 0.4202, 0.7922, 0.7235, 0.7964, 0.1503, 0.8914, 0.5775, 0.5447,\n",
       "         0.6362],\n",
       "        [0.4147, 0.3897, 0.5592, 0.7511, 0.0626, 0.4517, 0.4267, 0.8066, 0.9251,\n",
       "         0.3542],\n",
       "        [0.9050, 0.1232, 0.7985, 0.8911, 0.8012, 0.6642, 0.3300, 0.0864, 0.8497,\n",
       "         0.1631],\n",
       "        [0.4915, 0.4030, 0.5067, 0.6207, 0.3318, 0.1173, 0.9146, 0.1933, 0.0242,\n",
       "         0.6966],\n",
       "        [0.9930, 0.1011, 0.9460, 0.4013, 0.0855, 0.1702, 0.0883, 0.3656, 0.5545,\n",
       "         0.8945],\n",
       "        [0.2883, 0.0095, 0.9214, 0.4265, 0.7130, 0.1386, 0.2267, 0.2992, 0.5045,\n",
       "         0.7889],\n",
       "        [0.4785, 0.8264, 0.0235, 0.9653, 0.0914, 0.6085, 0.4168, 0.2134, 0.8894,\n",
       "         0.8459]])"
      ]
     },
     "execution_count": 10,
     "metadata": {},
     "output_type": "execute_result"
    }
   ],
   "source": [
    "## Your solution\n",
    "out = torch.rand(64,10)\n",
    "out\n",
    "# output of your network, should have shape (64,10)"
   ]
  },
  {
   "cell_type": "markdown",
   "metadata": {},
   "source": [
    "Now we have 10 outputs for our network. We want to pass in an image to our network and get out a probability distribution over the classes that tells us the likely class(es) the image belongs to. Something that looks like this:\n",
    "<img src='assets/image_distribution.png' width=500px>\n",
    "\n",
    "Here we see that the probability for each class is roughly the same. This is representing an untrained network, it hasn't seen any data yet so it just returns a uniform distribution with equal probabilities for each class.\n",
    "\n",
    "To calculate this probability distribution, we often use the [**softmax** function](https://en.wikipedia.org/wiki/Softmax_function). Mathematically this looks like\n",
    "\n",
    "$$\n",
    "\\Large \\sigma(x_i) = \\cfrac{e^{x_i}}{\\sum_k^K{e^{x_k}}}\n",
    "$$\n",
    "\n",
    "What this does is squish each input $x_i$ between 0 and 1 and normalizes the values to give you a proper probability distribution where the probabilites sum up to one.\n",
    "\n",
    "> **Exercise:** Implement a function `softmax` that performs the softmax calculation and returns probability distributions for each example in the batch. Note that you'll need to pay attention to the shapes when doing this. If you have a tensor `a` with shape `(64, 10)` and a tensor `b` with shape `(64,)`, doing `a/b` will give you an error because PyTorch will try to do the division across the columns (called broadcasting) but you'll get a size mismatch. The way to think about this is for each of the 64 examples, you only want to divide by one value, the sum in the denominator. So you need `b` to have a shape of `(64, 1)`. This way PyTorch will divide the 10 values in each row of `a` by the one value in each row of `b`. Pay attention to how you take the sum as well. You'll need to define the `dim` keyword in `torch.sum`. Setting `dim=0` takes the sum across the rows while `dim=1` takes the sum across the columns."
   ]
  },
  {
   "cell_type": "code",
   "execution_count": 15,
   "metadata": {},
   "outputs": [
    {
     "name": "stdout",
     "output_type": "stream",
     "text": [
      "torch.Size([64, 10])\n",
      "tensor([1.0000, 1.0000, 1.0000, 1.0000, 1.0000, 1.0000, 1.0000, 1.0000, 1.0000,\n",
      "        1.0000, 1.0000, 1.0000, 1.0000, 1.0000, 1.0000, 1.0000, 1.0000, 1.0000,\n",
      "        1.0000, 1.0000, 1.0000, 1.0000, 1.0000, 1.0000, 1.0000, 1.0000, 1.0000,\n",
      "        1.0000, 1.0000, 1.0000, 1.0000, 1.0000, 1.0000, 1.0000, 1.0000, 1.0000,\n",
      "        1.0000, 1.0000, 1.0000, 1.0000, 1.0000, 1.0000, 1.0000, 1.0000, 1.0000,\n",
      "        1.0000, 1.0000, 1.0000, 1.0000, 1.0000, 1.0000, 1.0000, 1.0000, 1.0000,\n",
      "        1.0000, 1.0000, 1.0000, 1.0000, 1.0000, 1.0000, 1.0000, 1.0000, 1.0000,\n",
      "        1.0000])\n"
     ]
    }
   ],
   "source": [
    "def softmax(x):\n",
    "    X=torch.exp(x)\n",
    "    total=torch.sum(X,dim=1)\n",
    "    total.resize_(total.shape[0],1)\n",
    "    X=X/total\n",
    "    return X\n",
    "    ## TODO: Implement the softmax function here\n",
    "\n",
    "# Here, out should be the output of the network in the previous excercise with shape (64,10)\n",
    "probabilities = softmax(out)\n",
    "\n",
    "# Does it have the right shape? Should be (64, 10)\n",
    "print(probabilities.shape)\n",
    "# Does it sum to 1?\n",
    "print(probabilities.sum(dim=1))"
   ]
  },
  {
   "cell_type": "markdown",
   "metadata": {},
   "source": [
    "## Building networks with PyTorch\n",
    "\n",
    "PyTorch provides a module `nn` that makes building networks much simpler. Here I'll show you how to build the same one as above with 784 inputs, 256 hidden units, 10 output units and a softmax output."
   ]
  },
  {
   "cell_type": "code",
   "execution_count": 16,
   "metadata": {},
   "outputs": [],
   "source": [
    "from torch import nn"
   ]
  },
  {
   "cell_type": "code",
   "execution_count": 17,
   "metadata": {},
   "outputs": [],
   "source": [
    "class Network(nn.Module):\n",
    "    def __init__(self):\n",
    "        super().__init__()\n",
    "        \n",
    "        # Inputs to hidden layer linear transformation\n",
    "        self.hidden = nn.Linear(784, 256)\n",
    "        # Output layer, 10 units - one for each digit\n",
    "        self.output = nn.Linear(256, 10)\n",
    "        \n",
    "        # Define sigmoid activation and softmax output \n",
    "        self.sigmoid = nn.Sigmoid()\n",
    "        self.softmax = nn.Softmax(dim=1)\n",
    "        \n",
    "    def forward(self, x):\n",
    "        # Pass the input tensor through each of our operations\n",
    "        x = self.hidden(x)\n",
    "        x = self.sigmoid(x)\n",
    "        x = self.output(x)\n",
    "        x = self.softmax(x)\n",
    "        \n",
    "        return x"
   ]
  },
  {
   "cell_type": "markdown",
   "metadata": {},
   "source": [
    "Let's go through this bit by bit.\n",
    "\n",
    "```python\n",
    "class Network(nn.Module):\n",
    "```\n",
    "\n",
    "Here we're inheriting from `nn.Module`. Combined with `super().__init__()` this creates a class that tracks the architecture and provides a lot of useful methods and attributes. It is mandatory to inherit from `nn.Module` when you're creating a class for your network. The name of the class itself can be anything.\n",
    "\n",
    "```python\n",
    "self.hidden = nn.Linear(784, 256)\n",
    "```\n",
    "\n",
    "This line creates a module for a linear transformation, $x\\mathbf{W} + b$, with 784 inputs and 256 outputs and assigns it to `self.hidden`. The module automatically creates the weight and bias tensors which we'll use in the `forward` method. You can access the weight and bias tensors once the network (`net`) is created with `net.hidden.weight` and `net.hidden.bias`.\n",
    "\n",
    "```python\n",
    "self.output = nn.Linear(256, 10)\n",
    "```\n",
    "\n",
    "Similarly, this creates another linear transformation with 256 inputs and 10 outputs.\n",
    "\n",
    "```python\n",
    "self.sigmoid = nn.Sigmoid()\n",
    "self.softmax = nn.Softmax(dim=1)\n",
    "```\n",
    "\n",
    "Here I defined operations for the sigmoid activation and softmax output. Setting `dim=1` in `nn.Softmax(dim=1)` calculates softmax across the columns.\n",
    "\n",
    "```python\n",
    "def forward(self, x):\n",
    "```\n",
    "\n",
    "PyTorch networks created with `nn.Module` must have a `forward` method defined. It takes in a tensor `x` and passes it through the operations you defined in the `__init__` method.\n",
    "\n",
    "```python\n",
    "x = self.hidden(x)\n",
    "x = self.sigmoid(x)\n",
    "x = self.output(x)\n",
    "x = self.softmax(x)\n",
    "```\n",
    "\n",
    "Here the input tensor `x` is passed through each operation and reassigned to `x`. We can see that the input tensor goes through the hidden layer, then a sigmoid function, then the output layer, and finally the softmax function. It doesn't matter what you name the variables here, as long as the inputs and outputs of the operations match the network architecture you want to build. The order in which you define things in the `__init__` method doesn't matter, but you'll need to sequence the operations correctly in the `forward` method.\n",
    "\n",
    "Now we can create a `Network` object."
   ]
  },
  {
   "cell_type": "code",
   "execution_count": 18,
   "metadata": {},
   "outputs": [
    {
     "data": {
      "text/plain": [
       "Network(\n",
       "  (hidden): Linear(in_features=784, out_features=256, bias=True)\n",
       "  (output): Linear(in_features=256, out_features=10, bias=True)\n",
       "  (sigmoid): Sigmoid()\n",
       "  (softmax): Softmax(dim=1)\n",
       ")"
      ]
     },
     "execution_count": 18,
     "metadata": {},
     "output_type": "execute_result"
    }
   ],
   "source": [
    "# Create the network and look at it's text representation\n",
    "model = Network()\n",
    "model"
   ]
  },
  {
   "cell_type": "markdown",
   "metadata": {},
   "source": [
    "You can define the network somewhat more concisely and clearly using the `torch.nn.functional` module. This is the most common way you'll see networks defined as many operations are simple element-wise functions. We normally import this module as `F`, `import torch.nn.functional as F`."
   ]
  },
  {
   "cell_type": "code",
   "execution_count": 20,
   "metadata": {},
   "outputs": [],
   "source": [
    "import torch.nn.functional as F\n",
    "\n",
    "class Network(nn.Module):\n",
    "    def __init__(self):\n",
    "        super().__init__()\n",
    "        # Inputs to hidden layer linear transformation\n",
    "        self.hidden = nn.Linear(784, 256)\n",
    "        # Output layer, 10 units - one for each digit\n",
    "        self.output = nn.Linear(256, 10)\n",
    "        \n",
    "    def forward(self, x):\n",
    "        # Hidden layer with sigmoid activation\n",
    "        x = F.sigmoid(self.hidden(x))\n",
    "        # Output layer with softmax activation\n",
    "        x = F.softmax(self.output(x), dim=1)\n",
    "        \n",
    "        return x"
   ]
  },
  {
   "cell_type": "markdown",
   "metadata": {},
   "source": [
    "### Activation functions\n",
    "\n",
    "So far we've only been looking at the sigmoid activation function, but in general any function can be used as an activation function. The only requirement is that for a network to approximate a non-linear function, the activation functions must be non-linear. Here are a few more examples of common activation functions: Tanh (hyperbolic tangent), and ReLU (rectified linear unit).\n",
    "\n",
    "<img src=\"assets/activation.png\" width=700px>\n",
    "\n",
    "In practice, the ReLU function is used almost exclusively as the activation function for hidden layers."
   ]
  },
  {
   "cell_type": "markdown",
   "metadata": {},
   "source": [
    "### Your Turn to Build a Network\n",
    "\n",
    "<img src=\"assets/mlp_mnist.png\" width=600px>\n",
    "\n",
    "> **Exercise:** Create a network with 784 input units, a hidden layer with 128 units and a ReLU activation, then a hidden layer with 64 units and a ReLU activation, and finally an output layer with a softmax activation as shown above. You can use a ReLU activation with the `nn.ReLU` module or `F.relu` function.\n",
    "\n",
    "It's good practice to name your layers by their type of network, for instance 'fc' to represent a fully-connected layer. As you code your solution, use `fc1`, `fc2`, and `fc3` as your layer names."
   ]
  },
  {
   "cell_type": "code",
   "execution_count": 21,
   "metadata": {
    "scrolled": true
   },
   "outputs": [],
   "source": [
    "## Your solution here\n",
    "class Network1(nn.Module):\n",
    "    def __init__(self):\n",
    "        super().__init__()\n",
    "        self.fc1 = nn.Linear(784,128)\n",
    "        self.fc2 = nn.Linear(128,64)\n",
    "        self.fc3 = nn.Linear(64,10)\n",
    "        \n",
    "    def forward(self, x):\n",
    "        x = F.relu(self.fc1(x))\n",
    "        x = F.relu(self.fc2(x))\n",
    "        x = F.softmax(self.fc3(x), dim=1)\n",
    "        \n",
    "        return x\n",
    "model=Network1()"
   ]
  },
  {
   "cell_type": "markdown",
   "metadata": {},
   "source": [
    "### Initializing weights and biases\n",
    "\n",
    "The weights and such are automatically initialized for you, but it's possible to customize how they are initialized. The weights and biases are tensors attached to the layer you defined, you can get them with `model.fc1.weight` for instance."
   ]
  },
  {
   "cell_type": "code",
   "execution_count": 22,
   "metadata": {},
   "outputs": [
    {
     "name": "stdout",
     "output_type": "stream",
     "text": [
      "Parameter containing:\n",
      "tensor([[ 0.0207, -0.0204, -0.0227,  ..., -0.0242,  0.0015, -0.0223],\n",
      "        [ 0.0104,  0.0177, -0.0190,  ...,  0.0314, -0.0180, -0.0346],\n",
      "        [-0.0003,  0.0254, -0.0109,  ...,  0.0139,  0.0014, -0.0057],\n",
      "        ...,\n",
      "        [-0.0189, -0.0033,  0.0048,  ..., -0.0241, -0.0257,  0.0343],\n",
      "        [-0.0004,  0.0044, -0.0160,  ...,  0.0053,  0.0235,  0.0118],\n",
      "        [ 0.0222,  0.0337, -0.0099,  ..., -0.0332, -0.0264, -0.0054]],\n",
      "       requires_grad=True)\n",
      "Parameter containing:\n",
      "tensor([ 0.0099, -0.0221,  0.0013, -0.0009, -0.0046,  0.0060,  0.0157,  0.0192,\n",
      "        -0.0338,  0.0105,  0.0254,  0.0189, -0.0354, -0.0314,  0.0242,  0.0286,\n",
      "         0.0253,  0.0132,  0.0143,  0.0098, -0.0204,  0.0060, -0.0094,  0.0180,\n",
      "         0.0011,  0.0122, -0.0276, -0.0128,  0.0003,  0.0009, -0.0254,  0.0181,\n",
      "        -0.0245,  0.0190, -0.0050,  0.0339, -0.0355,  0.0009, -0.0004,  0.0129,\n",
      "        -0.0330,  0.0151, -0.0176, -0.0150, -0.0026, -0.0294, -0.0069,  0.0302,\n",
      "        -0.0078, -0.0306, -0.0286,  0.0288, -0.0129,  0.0347,  0.0265, -0.0012,\n",
      "        -0.0328,  0.0237, -0.0041, -0.0289, -0.0007, -0.0255, -0.0064, -0.0293,\n",
      "         0.0045,  0.0279, -0.0343, -0.0211, -0.0201, -0.0015, -0.0220, -0.0229,\n",
      "        -0.0145,  0.0161,  0.0087, -0.0128, -0.0100,  0.0180, -0.0122, -0.0011,\n",
      "         0.0157,  0.0326,  0.0257,  0.0303, -0.0304, -0.0204,  0.0064,  0.0236,\n",
      "         0.0071,  0.0173,  0.0054,  0.0158,  0.0183, -0.0240, -0.0173, -0.0003,\n",
      "        -0.0346,  0.0067,  0.0109,  0.0147, -0.0199, -0.0169, -0.0262,  0.0299,\n",
      "         0.0169,  0.0286, -0.0275,  0.0351,  0.0162,  0.0048, -0.0233,  0.0070,\n",
      "         0.0087, -0.0074, -0.0329,  0.0164,  0.0236, -0.0329, -0.0051, -0.0107,\n",
      "        -0.0203, -0.0284, -0.0067, -0.0019,  0.0124, -0.0232, -0.0334, -0.0254],\n",
      "       requires_grad=True)\n"
     ]
    }
   ],
   "source": [
    "print(model.fc1.weight)\n",
    "print(model.fc1.bias)"
   ]
  },
  {
   "cell_type": "markdown",
   "metadata": {},
   "source": [
    "For custom initialization, we want to modify these tensors in place. These are actually autograd *Variables*, so we need to get back the actual tensors with `model.fc1.weight.data`. Once we have the tensors, we can fill them with zeros (for biases) or random normal values."
   ]
  },
  {
   "cell_type": "code",
   "execution_count": 23,
   "metadata": {},
   "outputs": [
    {
     "data": {
      "text/plain": [
       "tensor([0., 0., 0., 0., 0., 0., 0., 0., 0., 0., 0., 0., 0., 0., 0., 0., 0., 0., 0., 0., 0., 0., 0., 0.,\n",
       "        0., 0., 0., 0., 0., 0., 0., 0., 0., 0., 0., 0., 0., 0., 0., 0., 0., 0., 0., 0., 0., 0., 0., 0.,\n",
       "        0., 0., 0., 0., 0., 0., 0., 0., 0., 0., 0., 0., 0., 0., 0., 0., 0., 0., 0., 0., 0., 0., 0., 0.,\n",
       "        0., 0., 0., 0., 0., 0., 0., 0., 0., 0., 0., 0., 0., 0., 0., 0., 0., 0., 0., 0., 0., 0., 0., 0.,\n",
       "        0., 0., 0., 0., 0., 0., 0., 0., 0., 0., 0., 0., 0., 0., 0., 0., 0., 0., 0., 0., 0., 0., 0., 0.,\n",
       "        0., 0., 0., 0., 0., 0., 0., 0.])"
      ]
     },
     "execution_count": 23,
     "metadata": {},
     "output_type": "execute_result"
    }
   ],
   "source": [
    "# Set biases to all zeros\n",
    "model.fc1.bias.data.fill_(0)"
   ]
  },
  {
   "cell_type": "code",
   "execution_count": 24,
   "metadata": {},
   "outputs": [
    {
     "data": {
      "text/plain": [
       "tensor([[ 6.1687e-05,  8.3565e-04,  3.3774e-03,  ..., -9.1966e-03,\n",
       "         -3.9311e-03,  6.1364e-03],\n",
       "        [-7.0373e-03, -4.5859e-03, -2.7585e-03,  ..., -5.9004e-03,\n",
       "          9.8775e-03,  1.2543e-02],\n",
       "        [-4.3733e-03, -1.3202e-03,  7.2238e-03,  ...,  4.8898e-03,\n",
       "          2.0208e-02,  2.6522e-03],\n",
       "        ...,\n",
       "        [-9.6399e-03, -7.4879e-04, -5.0316e-06,  ...,  2.5861e-02,\n",
       "          5.2844e-03, -9.1050e-03],\n",
       "        [ 1.0195e-02,  2.1684e-03, -5.7529e-03,  ...,  3.6402e-03,\n",
       "          1.0690e-02, -5.7617e-03],\n",
       "        [-3.3717e-03,  1.3507e-02, -1.3032e-04,  ..., -2.6287e-03,\n",
       "         -5.9762e-03, -1.3840e-02]])"
      ]
     },
     "execution_count": 24,
     "metadata": {},
     "output_type": "execute_result"
    }
   ],
   "source": [
    "# sample from random normal with standard dev = 0.01\n",
    "model.fc1.weight.data.normal_(std=0.01)"
   ]
  },
  {
   "cell_type": "markdown",
   "metadata": {},
   "source": [
    "### Forward pass\n",
    "\n",
    "Now that we have a network, let's see what happens when we pass in an image."
   ]
  },
  {
   "cell_type": "code",
   "execution_count": 25,
   "metadata": {},
   "outputs": [
    {
     "data": {
      "image/png": "[encoded data removed]",
      "text/plain": [
       "<Figure size 432x648 with 2 Axes>"
      ]
     },
     "metadata": {
      "image/png": {
       "height": 235,
       "width": 424
      },
      "needs_background": "light"
     },
     "output_type": "display_data"
    }
   ],
   "source": [
    "# Grab some data \n",
    "dataiter = iter(trainloader)\n",
    "images, labels = dataiter.next()\n",
    "\n",
    "# Resize images into a 1D vector, new shape is (batch size, color channels, image pixels) \n",
    "images.resize_(64, 1, 784)\n",
    "# or images.resize_(images.shape[0], 1, 784) to automatically get batch size\n",
    "\n",
    "# Forward pass through the network\n",
    "img_idx = 0\n",
    "ps = model.forward(images[img_idx,:])\n",
    "\n",
    "img = images[img_idx]\n",
    "helper.view_classify(img.view(1, 28, 28), ps)"
   ]
  },
  {
   "cell_type": "markdown",
   "metadata": {},
   "source": [
    "As you can see above, our network has basically no idea what this digit is. It's because we haven't trained it yet, all the weights are random!\n",
    "\n",
    "### Using `nn.Sequential`\n",
    "\n",
    "PyTorch provides a convenient way to build networks like this where a tensor is passed sequentially through operations, `nn.Sequential` ([documentation](https://pytorch.org/docs/master/nn.html#torch.nn.Sequential)). Using this to build the equivalent network:"
   ]
  },
  {
   "cell_type": "code",
   "execution_count": 26,
   "metadata": {},
   "outputs": [
    {
     "name": "stdout",
     "output_type": "stream",
     "text": [
      "Sequential(\n",
      "  (0): Linear(in_features=784, out_features=128, bias=True)\n",
      "  (1): ReLU()\n",
      "  (2): Linear(in_features=128, out_features=64, bias=True)\n",
      "  (3): ReLU()\n",
      "  (4): Linear(in_features=64, out_features=10, bias=True)\n",
      "  (5): Softmax(dim=1)\n",
      ")\n"
     ]
    },
    {
     "data": {
      "image/png": "[encoded data removed]",
      "text/plain": [
       "<Figure size 432x648 with 2 Axes>"
      ]
     },
     "metadata": {
      "image/png": {
       "height": 235,
       "width": 424
      },
      "needs_background": "light"
     },
     "output_type": "display_data"
    }
   ],
   "source": [
    "# Hyperparameters for our network\n",
    "input_size = 784\n",
    "hidden_sizes = [128, 64]\n",
    "output_size = 10\n",
    "\n",
    "# Build a feed-forward network\n",
    "model = nn.Sequential(nn.Linear(input_size, hidden_sizes[0]),\n",
    "                      nn.ReLU(),\n",
    "                      nn.Linear(hidden_sizes[0], hidden_sizes[1]),\n",
    "                      nn.ReLU(),\n",
    "                      nn.Linear(hidden_sizes[1], output_size),\n",
    "                      nn.Softmax(dim=1))\n",
    "print(model)\n",
    "\n",
    "# Forward pass through the network and display output\n",
    "images, labels = next(iter(trainloader))\n",
    "images.resize_(images.shape[0], 1, 784)\n",
    "ps = model.forward(images[0,:])\n",
    "helper.view_classify(images[0].view(1, 28, 28), ps)"
   ]
  },
  {
   "cell_type": "markdown",
   "metadata": {},
   "source": [
    "Here our model is the same as before: 784 input units, a hidden layer with 128 units, ReLU activation, 64 unit hidden layer, another ReLU, then the output layer with 10 units, and the softmax output.\n",
    "\n",
    "The operations are available by passing in the appropriate index. For example, if you want to get first Linear operation and look at the weights, you'd use `model[0]`."
   ]
  },
  {
   "cell_type": "code",
   "execution_count": 27,
   "metadata": {},
   "outputs": [
    {
     "name": "stdout",
     "output_type": "stream",
     "text": [
      "Linear(in_features=784, out_features=128, bias=True)\n"
     ]
    },
    {
     "data": {
      "text/plain": [
       "Parameter containing:\n",
       "tensor([[-0.0335,  0.0132,  0.0319,  ...,  0.0289,  0.0078,  0.0154],\n",
       "        [ 0.0230,  0.0010, -0.0160,  ...,  0.0178, -0.0006, -0.0175],\n",
       "        [-0.0026,  0.0027, -0.0327,  ...,  0.0186,  0.0272, -0.0109],\n",
       "        ...,\n",
       "        [ 0.0317,  0.0029,  0.0126,  ...,  0.0175,  0.0164,  0.0274],\n",
       "        [-0.0246, -0.0227, -0.0306,  ...,  0.0125,  0.0284,  0.0032],\n",
       "        [-0.0289, -0.0214, -0.0169,  ...,  0.0308,  0.0009,  0.0251]],\n",
       "       requires_grad=True)"
      ]
     },
     "execution_count": 27,
     "metadata": {},
     "output_type": "execute_result"
    }
   ],
   "source": [
    "print(model[0])\n",
    "model[0].weight"
   ]
  },
  {
   "cell_type": "markdown",
   "metadata": {},
   "source": [
    "You can also pass in an `OrderedDict` to name the individual layers and operations, instead of using incremental integers. Note that dictionary keys must be unique, so _each operation must have a different name_."
   ]
  },
  {
   "cell_type": "code",
   "execution_count": 28,
   "metadata": {},
   "outputs": [
    {
     "data": {
      "text/plain": [
       "Sequential(\n",
       "  (fc1): Linear(in_features=784, out_features=128, bias=True)\n",
       "  (relu1): ReLU()\n",
       "  (fc2): Linear(in_features=128, out_features=64, bias=True)\n",
       "  (relu2): ReLU()\n",
       "  (output): Linear(in_features=64, out_features=10, bias=True)\n",
       "  (softmax): Softmax(dim=1)\n",
       ")"
      ]
     },
     "execution_count": 28,
     "metadata": {},
     "output_type": "execute_result"
    }
   ],
   "source": [
    "from collections import OrderedDict\n",
    "model = nn.Sequential(OrderedDict([\n",
    "                      ('fc1', nn.Linear(input_size, hidden_sizes[0])),\n",
    "                      ('relu1', nn.ReLU()),\n",
    "                      ('fc2', nn.Linear(hidden_sizes[0], hidden_sizes[1])),\n",
    "                      ('relu2', nn.ReLU()),\n",
    "                      ('output', nn.Linear(hidden_sizes[1], output_size)),\n",
    "                      ('softmax', nn.Softmax(dim=1))]))\n",
    "model"
   ]
  },
  {
   "cell_type": "markdown",
   "metadata": {},
   "source": [
    "Now you can access layers either by integer or the name"
   ]
  },
  {
   "cell_type": "code",
   "execution_count": 29,
   "metadata": {},
   "outputs": [
    {
     "name": "stdout",
     "output_type": "stream",
     "text": [
      "Linear(in_features=784, out_features=128, bias=True)\n",
      "Linear(in_features=784, out_features=128, bias=True)\n"
     ]
    }
   ],
   "source": [
    "print(model[0])\n",
    "print(model.fc1)"
   ]
  },
  {
   "cell_type": "markdown",
   "metadata": {},
   "source": [
    "In the next notebook, we'll see how we can train a neural network to accuractly predict the numbers appearing in the MNIST images."
   ]
  }
 ],
 "metadata": {
  "kernelspec": {
   "display_name": "Python 3",
   "language": "python",
   "name": "python3"
  },
  "language_info": {
   "codemirror_mode": {
    "name": "ipython",
    "version": 3
   },
   "file_extension": ".py",
   "mimetype": "text/x-python",
   "name": "python",
   "nbconvert_exporter": "python",
   "pygments_lexer": "ipython3",
   "version": "3.7.6"
  }
 },
 "nbformat": 4,
 "nbformat_minor": 2
}
